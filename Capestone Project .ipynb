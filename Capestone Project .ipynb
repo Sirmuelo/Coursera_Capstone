{
    "nbformat_minor": 1, 
    "cells": [
        {
            "source": "## THE ROLE OF STRATEGIC ALLIANCE IN IMPROVING THE PERFORMANCE OF MARITIME INDUSTRY IN NIGERIA \n\n# Introduction \n# 1.\tBackground to the Study \nBusiness has evolved which is as a result of globalization and trade. Modern organizations are leveraging on this evolution to improve performance, remain relevant and have a competitive advantage over their counterparts. For the organization to remain relevant they must innovate and adapt to the changes that come from globalization. Organizations who don\u2019t have an innovative capacity can form a strategic alliance with other firms who have. This alliance would enable the less innovative organization increase its capacity and resources they lack. \nIn a strategic alliance, organizations enter an agreement to co-create, trade and share resources among themselves. Firms enter key alliance to limit cost that originated from coordination challenges, gain information and build their own asset. Strategic alliance might be formalized as a joint venture in which the joint exercises are compartmentalized into a different independent substance or they might be left similarly indistinct and entwined, a state we distinguish as contractual alliance. Through this strategic alliance, partnering firms share benefits and administrative command concerning the execution of assigned tasks and proceeding with commitments to at least one key territories. \n# 1.1\t Statement of the Problem  \nStrategic alliance has become a management strategy firms enter as a solution for the difficulty\u2019s organization go through while trying to improve performance. Even in the maritime industry of some western countries like Thailand, Singapore, China and America, strategic alliance is used as an instrument for corporate strategy. Which is why firms in these western countries, have been growing in terms of market share and profit. Several studies authors have looked into the effect of strategic alliance as a whole in the maritime industry, but little research have been carried out on the effect of the composition of strategic alliance such as research and development, technology, capacity building, and corporate image and how performance in the maritime industry can be improved. \n# 1.2\tObjective of the Study \nThis study's broad objective is to examine the role of strategic alliance on the performance of maritime industry in Nigeria. Specifically the study attempts to:  \ni.\tDetermine the role of strategic technology alliance in the retention of customer in maritime industry.  \nii.\tInvestigate how strategic capacity building alliance can significantly influence employee commitment to organization.  \niii.\tExamine how strategic research and development alliance can affect service quality of the organization. \niv.\tAscertain the relationship between strategic corporate image alliance and customer loyalty.  \nThe study research question focus on: \ni.\tWhat is the role of strategic technology alliance on the retention of customer in maritime industry? \nii.\tTo what extent does strategic capacity building alliance influence employee commitment to organization? \niii.\tHow does strategic research and development alliance affect service quality of the organization? \niv.\tTo what extent does strategic corporate image alliance affect customer loyalty?  \n# 1.3\tResearch Hypotheses \nIn order to capture the role strategic alliances, plays in improving the performance of maritime industry in Nigeria, these hypotheses were tested: \ni.\tStrategic technology strategic alliance does not play a significant role in the retention of customer in maritime industry.  \nii.\tStrategic capacity building alliance does not significantly influence employee commitment to organization. \niii.\tStrategic research and development alliance does not have significant effect on service quality of the organization. \niv.\tStrategic corporate image alliance does not have a significant impact on customer loyalty. \n# 1.4\tSignificance of the Study \nThis study is critical to the examination of strategic alliance role in improving the performance of maritime industry in Nigeria. It is of benefit to organizations in maritime industry as it shows the level of understanding organizations have about the concept. This concept is of benefit to government and government agencies in the maritime industry as they would be able to leverage on strategic alliance as a management tool in making and implementing policies. Investors would also benefit from this study as the quality of decision made through strategic alliance will enhance investments decisions. It would be of benefit to academics as a source for further research and investigation into the maritime industry. \n# 1.5\tOperationalization of the Research Study \nFor the purpose of this study, the independent and dependent variable are expressed mathematically as follows: \ny=f(x) \nWhere, \n\nx= Independent variable \n\ny= Dependent variable \n\nf= functional relationship \n\nx= Strategic Alliance (SA) \n\ny= Maritime Performance (MP) \n\nThus, MP=f(SA) \n\nWhere: \n\nSA is broken down as follows \n\nx = (x1, x2, x3, x4\u2026..xn) \n\nx1 = Technology   \n\nx2 = Capacity building\n\nx3 = Research and development\n\nx4 = Corporate Image \n\nMP is broken down as follows \n\ny = (y1, y2, y3, y4\u2026..yn) \n\ny1 = Customer retention  \n\ny2 = Employee commitment  \n\ny3 = Service quality\n\ny4 = Customer loyalty \n\nTherefore; Maritime Performance =f (Strategic Alliance)  \n\n# 2. Research Method \nFor the purpose of this study survey research method was adopted. This method is appropriate for the study as it involved the collection of information from a population sample which are subjective and the researcher does not attempt to control or manipulate the population. \n# 2.1 Audience of the Study \nThe population of the study are top, middle and lower level management staff in four government parastatals under the maritime service department. The parastatals are Nigerian Ports Authority (NPA), Nigerian Maritime Administration and Safety Agency (NIMASA), National Inland Waterways Authority (NIWA) and Nigerian Shippers' Council (NSC). The study population is 270 (human resource department of the agencies) derived from the four categories \n\n\n# Data \nThe cordinate of these locations for torists includes hotels and fun locations arond the city \n\n# Discussion\nLagos initially emerged as a port city that originated on a collection of islands, which are contained in the present day Local Government Areas (LGAs) of Lagos Island, Eti-Osa, Amuwo-Odofin and Apapa. The islands are separated by creeks, fringing the southwest mouth of Lagos Lagoon, while being protected from the Atlantic Ocean by barrier islands and long sand spits such as Bar Beach, which stretch up to 100 km (62 mi) east and west of the mouth. Due to rapid urbanization, the city expanded to the west of the lagoon to include areas in the present day Lagos Mainland, Ajeromi-Ifelodun and Surulere. This led to the classification of Lagos into two main areas: the Island, which was the initial city of Lagos, before it expanded into the area known as the Mainland.", 
            "cell_type": "markdown", 
            "metadata": {
                "collapsed": true
            }
        }, 
        {
            "source": "import random\nimport requests\nimport numpy as np\nimport pandas as pd\nimport matplotlib.cm as cm\nimport matplotlib.colors as colors\nfrom geopy.geocoders import Nominatim\nfrom sklearn.cluster import KMeans as KM\nfrom pandas.io.json import json_normalize\nimport matplotlib.pyplot as plt \nfrom sklearn.datasets.samples_generator import make_blobs", 
            "cell_type": "code", 
            "execution_count": 2, 
            "outputs": [], 
            "metadata": {}
        }, 
        {
            "source": "import numpy as np \nimport time\nimport pandas as pd \npd.set_option('display.max_columns', None)\npd.set_option('display.max_rows', None)\n\nimport json \nimport requests \nfrom pandas.io.json import json_normalize \nfrom geopy.geocoders import Nominatim \n!conda install -c conda-forge folium=0.5.0 --yes \nimport folium \n\nprint('Bibliotecas importadas.')", 
            "cell_type": "code", 
            "execution_count": 21, 
            "outputs": [
                {
                    "output_type": "stream", 
                    "name": "stdout", 
                    "text": "Solving environment: done\n\n## Package Plan ##\n\n  environment location: /opt/conda/envs/Python36\n\n  added / updated specs: \n    - folium=0.5.0\n\n\nThe following packages will be downloaded:\n\n    package                    |            build\n    ---------------------------|-----------------\n    openssl-1.1.1c             |       h516909a_0         2.1 MB  conda-forge\n    branca-0.3.1               |             py_0          25 KB  conda-forge\n    ca-certificates-2019.9.11  |       hecc5488_0         144 KB  conda-forge\n    altair-3.2.0               |           py36_0         770 KB  conda-forge\n    vincent-0.4.4              |             py_1          28 KB  conda-forge\n    certifi-2019.9.11          |           py36_0         147 KB  conda-forge\n    folium-0.5.0               |             py_0          45 KB  conda-forge\n    ------------------------------------------------------------\n                                           Total:         3.3 MB\n\nThe following NEW packages will be INSTALLED:\n\n    altair:          3.2.0-py36_0      conda-forge\n    branca:          0.3.1-py_0        conda-forge\n    folium:          0.5.0-py_0        conda-forge\n    vincent:         0.4.4-py_1        conda-forge\n\nThe following packages will be UPDATED:\n\n    ca-certificates: 2019.5.15-1                   --> 2019.9.11-hecc5488_0 conda-forge\n    certifi:         2019.6.16-py36_1              --> 2019.9.11-py36_0     conda-forge\n\nThe following packages will be DOWNGRADED:\n\n    openssl:         1.1.1d-h7b6447c_1             --> 1.1.1c-h516909a_0    conda-forge\n\n\nDownloading and Extracting Packages\nopenssl-1.1.1c       | 2.1 MB    | ##################################### | 100% \nbranca-0.3.1         | 25 KB     | ##################################### | 100% \nca-certificates-2019 | 144 KB    | ##################################### | 100% \naltair-3.2.0         | 770 KB    | ##################################### | 100% \nvincent-0.4.4        | 28 KB     | ##################################### | 100% \ncertifi-2019.9.11    | 147 KB    | ##################################### | 100% \nfolium-0.5.0         | 45 KB     | ##################################### | 100% \nPreparing transaction: done\nVerifying transaction: done\nExecuting transaction: done\nBibliotecas importadas.\n"
                }
            ], 
            "metadata": {}
        }, 
        {
            "source": "geolocator = Nominatim()\nlocation = geolocator.geocode(address)\nlatitude = location.latitude\nlongitude = location.longitude\nlimit = 100\nradius = 1000 \nprint = 'The geograpical coordinate of Lagos home are'.format(latitude, longitude)", 
            "cell_type": "code", 
            "execution_count": 32, 
            "outputs": [
                {
                    "output_type": "stream", 
                    "name": "stderr", 
                    "text": "/opt/conda/envs/Python36/lib/python3.6/site-packages/ipykernel/__main__.py:1: DeprecationWarning: Using Nominatim with the default \"geopy/1.18.1\" `user_agent` is strongly discouraged, as it violates Nominatim's ToS https://operations.osmfoundation.org/policies/nominatim/ and may possibly cause 403 and 429 HTTP errors. Please specify a custom `user_agent` with `Nominatim(user_agent=\"my-application\")` or by overriding the default `user_agent`: `geopy.geocoders.options.default_user_agent = \"my-application\"`. In geopy 2.0 this will become an exception.\n  if __name__ == '__main__':\n"
                }
            ], 
            "metadata": {}
        }, 
        {
            "source": "url = 'https://foursquare.com/explore?mode=url&ne=6.716437%2C3.655357&q=Top%20Picks&sw=6.295506%2C3.079262'\nurl\nurl1 ='https://foursquare.com/explore?mode=share&near=Lagos%2C%20Nigeria&nearGeoId=72057594040260395&q=Hotels&vne=6.615071%2C3.539554&vsw=6.417241%2C3.256741&share=1&rid=5d8a13818ad62e002c21f01f'\nurl and url1", 
            "cell_type": "code", 
            "execution_count": 33, 
            "outputs": [
                {
                    "output_type": "execute_result", 
                    "metadata": {}, 
                    "data": {
                        "text/plain": "'https://foursquare.com/explore?mode=share&near=Lagos%2C%20Nigeria&nearGeoId=72057594040260395&q=Hotels&vne=6.615071%2C3.539554&vsw=6.417241%2C3.256741&share=1&rid=5d8a13818ad62e002c21f01f'"
                    }, 
                    "execution_count": 33
                }
            ], 
            "metadata": {}
        }, 
        {
            "source": "", 
            "cell_type": "code", 
            "execution_count": null, 
            "outputs": [], 
            "metadata": {}
        }
    ], 
    "nbformat": 4, 
    "metadata": {
        "kernelspec": {
            "display_name": "Python 3.6", 
            "name": "python3", 
            "language": "python"
        }, 
        "language_info": {
            "mimetype": "text/x-python", 
            "nbconvert_exporter": "python", 
            "version": "3.6.8", 
            "name": "python", 
            "pygments_lexer": "ipython3", 
            "file_extension": ".py", 
            "codemirror_mode": {
                "version": 3, 
                "name": "ipython"
            }
        }
    }
}