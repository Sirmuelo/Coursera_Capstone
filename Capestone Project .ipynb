{
    "nbformat_minor": 1, 
    "cells": [
        {
            "source": "# This Capestone project therefore examines the role of strategic alliance in improving the performance of Business in Mccallum Street, Singapore. \n\n# Introduction  \nMccallum Street is a one-way street located in Chinatown, Singapore and the financial district of Shenton Way in the planning areas of both Outram and Downtown Core respectively. The street starts from Shenton Way and ends at the junction of Telok Ayer Street which then continues to Amoy Street. The Chinatown part of the street links the junction of Telok Ayer Street and Amoy Street towards Cecil Street, and for the Shenton Way part linking from Shenton Way to Cecil Street. \nThe street was one of the new streets declared as a public street in 1895 when the area from Robinson Road to Raffles Quay was levelled and drained. It is named after Major Henry McCallum, Colonial engineer in the 1890s. \nIt is office to companies like Bangkok Bank and I-S Magazine.  \n\n# 1.\tBackground Discussion \nCountries have evolved which is as a result of globalization and trade. Modern organizations in those countries are leveraging on this evolution to improve performance, remain relevant and have a competitive advantage over their counterparts. For the business countries to remain relevant they must innovate and adapt to the changes that come from globalization. Organizations who don\u2019t have an innovative capacity can form a strategic alliance with other firms who have. This alliance would enable the less innovative organization increase its capacity and resources they lack. \nSingapore is known for its dominace in the Maritime industry. It has strategically positioning itself to be a major player in  the world. The function of maritime industry is vast. This is because, certain maritime services such as moving of cargos, security of water ways, towage, docking and offloading has an important role in improving performance. Studies in literature are of the opinion that joint venture as a form of strategic alliance is the solution to reducing risk and prevention of marine and atmospheric pollution by ships. As a result of that, the government is proactively re-strategizing the industry goals by engaging in a strategic alliance with other maritime agencies which will enable companies stay relevant in the maritime world. \nIn a strategic alliance, organizations enter an agreement to co-create, trade and share resources among themselves. Firms enter key alliance to limit cost that originated from coordination challenges, gain information and build their own asset. Strategic alliance might be formalized as a joint venture in which the joint exercises are compartmentalized into a different independent substance or they might be left similarly indistinct and entwined, a state we distinguish as contractual alliance. Through this strategic alliance, partnering firms share benefits and administrative command concerning the execution of assigned tasks and proceeding with commitments to at least one key territories. \nIt has been observe that firms enter key alliance to limit costs that originate from coordination challenges, sourcing of specific assets and institutional information. \nThe concept of strategic alliance has continued to grow more significantly in recent times as more organizations are beginning to see it as an important part for sustainable development. Organizations who come together to achieve a strategic objective can be viewed as strategic alliance. Organizations who are in a strategic relationship are becoming more popular. The popularity of these organizations helps the strategic partners and create awareness of their capital and brand. By collaborating with other private sectors and international bodies, the maritime industry can access valuable solution that can help revitalise the sector and bring more foreign investment. There is need for the combination of institutes that are proficient in certain aspect of their business areas. As strategic alliance will help organization who lack or are in need of that aspect improve their performance. \nFurthermore, an effective strategic alliance would lead to the advancement of an organization by improving its overall performance in the area of market share and profit. Scholars have focused on the conditions under which companies can improve the performance of their strategic alliances. It can also be connected with the quantity of output, timeliness of output and completed work efficiency. This connection of organizational performance helps in the achievement of its objective through the use of effective and efficient resources. \nThis study therefore examines the role of strategic alliance in improving the performance of Business in Mccallum Street, Singapore.   \n\n# 1.1\t Discription of the Problem  \nStrategic alliance has become a management strategy firms enter as a solution for the difficulty\u2019s organization go through while trying to improve performance. Even in the maritime industry of some western countries like Thailand, Singapore, China and America, strategic alliance is used as an instrument for corporate strategy. Which is why firms in these western countries, have been growing in terms of market share and profit. Several studies authors have looked into the effect of strategic alliance as a whole in the maritime industry, but little research have been carried out on the effect of the composition of strategic alliance such as research and development, technology, capacity building, and corporate image and how performance in the maritime industry can be improved. \nIn recent time, most organizations around the world seek significant ways of advancing their level of technology in order to reduce ideal time, increase efficiency and in general improve performance. The organization could be in any industry ranging from maritime, retail, banking, telecommunication, manufacturing, oil and gas. Therefore, management of these organizations look for ways of acquiring the latest technology, forming a strategic alliance, partnership or joint venture that will enable them to achieve their corporate goal. In the maritime industry, technology is also a concern for the management of most organizations. This is because maritime services are driven by technology and the lack of technology hinders improvement of service quality, control of maritime pollution on the water ways and also the retention of customers. \nStrategic alliance in the aspect of capacity building is another issue that will be looked at. An alliance in capacity building is a form of human development strategy in improving skills of employees as it relates to their job functions. When the skills are improved, it helps in improving organization performance. Through this form of strategic alliance, a company seeking to grow or expand a line or division of business, will get advice and training from experts in specialized areas of their business. These expert consultants will then train the staff in that division on how to perform task optimally which will lead to improved corporate performance. In addition, continuous training or increase in capacity of the staff, will not only the organization and the staff, but also the customers will benefit. This is because, the staff are now well informed and enlighten about their job function which reflects on the quality of services rendered to customers.  \nStrategic alliance in the area of research and development will also be looked at. An alliance in research and development is an innovative strategy organization undertake. This innovative strategy enables them to develop new products and services that will end up improving the features of a product, reduce congestion in the seaports and overall improve service quality of the industry. The importance of R&D has been increasingly emphasized by Yeonhee, Sooyoung and Hyejin (2011) in the service sector over the past few decades. This is because research and development concept in service sector is more obscure than that of construction sector. In addition, its unique features make it more difficult to capture R&D features and their impact. To date, studies on the R&D service relationship with business performance of a company have limited these challenges. This form of strategic alliance tends to look for ways of bringing the best out of organizations, improve quality of service and retain customers.  \nCorporate image as a form of strategic alliance image is another issue that will be looked at. With increased competition, organizations are turning to corporate identity management practices as a competitive edge. If managed appropriately, it may impact positively on brand performance and attract more customers. Corporate identity management practices influence brand performance through a favourable corporate image. A favourable corporate image has been found to impact on an organization sale through increased customer, employees and investors attraction.  \nTherefore, from the statement of problem, an organization best strategy to remain relevant in business and improve performance is to enter a form of alliance that allows the organization to remain profitable. \n\n# 1.2\tDiscription of the Data\nThe following data is necessary to answer the questions of the problem:\nList of Business in Mccallum Street \nA survey research was adopted to know how strategic alliance will improve businesses perofrmance \nThe data will be used as follows:\nUse Foursquare and geopy data to map out the location of Mccalum street and a survey resarch to get information from employees on how strategic alliance will benefit them.\n\nFor the purpose of this study, the independent and dependent variable are expressed mathematically as follows: \ny=f(x) \nWhere, \n\nx= Independent variable \n\ny= Dependent variable \n\nf= functional relationship \n\nx= Strategic Alliance (SA) \n\ny= Business Performance (BP) \n\nThus, BP=f(SA) \n\nWhere: \n\nSA is broken down as follows \n\nx = (x1, x2, x3, x4\u2026..xn) \n\nx1 = Technology   \n\nx2 = Capacity building\n\nx3 = Research and development\n\nx4 = Corporate Image \n\nBP is broken down as follows \n\ny = (y1, y2, y3, y4\u2026..yn) \n\ny1 = Customer retention  \n\ny2 = Employee commitment  \n\ny3 = Service quality\n\ny4 = Customer loyalty \n\nTherefore; Business Performance = f(Strategic Alliance)  ", 
            "cell_type": "markdown", 
            "metadata": {
                "collapsed": true
            }
        }, 
        {
            "source": "import requests \nimport pandas as pd \nimport numpy as np \nimport random \n!conda install -c conda-forge geopy --yes \nfrom geopy.geocoders import Nominatim \nfrom IPython.display import Image \nfrom IPython.core.display import HTML \nfrom pandas.io.json import json_normalize\n!conda install -c conda-forge folium=0.5.0 --yes\nimport folium\nprint('Folium installed')\nprint('Libraries imported.')", 
            "cell_type": "code", 
            "execution_count": 1, 
            "outputs": [
                {
                    "output_type": "stream", 
                    "name": "stdout", 
                    "text": "Solving environment: done\n\n## Package Plan ##\n\n  environment location: /opt/conda/envs/Python36\n\n  added / updated specs: \n    - geopy\n\n\nThe following packages will be downloaded:\n\n    package                    |            build\n    ---------------------------|-----------------\n    openssl-1.1.1c             |       h516909a_0         2.1 MB  conda-forge\n    ca-certificates-2019.9.11  |       hecc5488_0         144 KB  conda-forge\n    certifi-2019.9.11          |           py36_0         147 KB  conda-forge\n    geopy-1.20.0               |             py_0          57 KB  conda-forge\n    geographiclib-1.50         |             py_0          34 KB  conda-forge\n    ------------------------------------------------------------\n                                           Total:         2.5 MB\n\nThe following NEW packages will be INSTALLED:\n\n    geographiclib:   1.50-py_0         conda-forge\n    geopy:           1.20.0-py_0       conda-forge\n\nThe following packages will be UPDATED:\n\n    ca-certificates: 2019.5.15-1                   --> 2019.9.11-hecc5488_0 conda-forge\n    certifi:         2019.6.16-py36_1              --> 2019.9.11-py36_0     conda-forge\n\nThe following packages will be DOWNGRADED:\n\n    openssl:         1.1.1d-h7b6447c_1             --> 1.1.1c-h516909a_0    conda-forge\n\n\nDownloading and Extracting Packages\nopenssl-1.1.1c       | 2.1 MB    | ##################################### | 100% \nca-certificates-2019 | 144 KB    | ##################################### | 100% \ncertifi-2019.9.11    | 147 KB    | ##################################### | 100% \ngeopy-1.20.0         | 57 KB     | ##################################### | 100% \ngeographiclib-1.50   | 34 KB     | ##################################### | 100% \nPreparing transaction: done\nVerifying transaction: done\nExecuting transaction: done\nSolving environment: done\n\n## Package Plan ##\n\n  environment location: /opt/conda/envs/Python36\n\n  added / updated specs: \n    - folium=0.5.0\n\n\nThe following packages will be downloaded:\n\n    package                    |            build\n    ---------------------------|-----------------\n    altair-3.2.0               |           py36_0         770 KB  conda-forge\n    folium-0.5.0               |             py_0          45 KB  conda-forge\n    vincent-0.4.4              |             py_1          28 KB  conda-forge\n    branca-0.3.1               |             py_0          25 KB  conda-forge\n    ------------------------------------------------------------\n                                           Total:         868 KB\n\nThe following NEW packages will be INSTALLED:\n\n    altair:  3.2.0-py36_0 conda-forge\n    branca:  0.3.1-py_0   conda-forge\n    folium:  0.5.0-py_0   conda-forge\n    vincent: 0.4.4-py_1   conda-forge\n\n\nDownloading and Extracting Packages\naltair-3.2.0         | 770 KB    | ##################################### | 100% \nfolium-0.5.0         | 45 KB     | ##################################### | 100% \nvincent-0.4.4        | 28 KB     | ##################################### | 100% \nbranca-0.3.1         | 25 KB     | ##################################### | 100% \nPreparing transaction: done\nVerifying transaction: done\nExecuting transaction: done\nFolium installed\nLibraries imported.\n"
                }
            ], 
            "metadata": {}
        }, 
        {
            "source": "CLIENT_ID = 'XXXXXXXXXX'\nCLIENT_SECRET = 'XXXXXXXXXX'\nVERSION = '20180604'\nLIMIT = 100", 
            "cell_type": "code", 
            "execution_count": 3, 
            "outputs": [], 
            "metadata": {}
        }, 
        {
            "source": "address = 'Mccallum Street, Singarpore'\n\ngeolocator = Nominatim(user_agent=\"foursquare_agent\")\nlocation = geolocator.geocode(address)\nlatitude = location.latitude\nlongitude = location.longitude\nlimit = 100\nradius = 1000\nprint(latitude, longitude)", 
            "cell_type": "code", 
            "execution_count": 4, 
            "outputs": [
                {
                    "output_type": "error", 
                    "evalue": "'NoneType' object has no attribute 'latitude'", 
                    "traceback": [
                        "\u001b[0;31m---------------------------------------------------------------------------\u001b[0m", 
                        "\u001b[0;31mAttributeError\u001b[0m                            Traceback (most recent call last)", 
                        "\u001b[0;32m<ipython-input-4-a53c7f6690ef>\u001b[0m in \u001b[0;36m<module>\u001b[0;34m\u001b[0m\n\u001b[1;32m      3\u001b[0m \u001b[0mgeolocator\u001b[0m \u001b[0;34m=\u001b[0m \u001b[0mNominatim\u001b[0m\u001b[0;34m(\u001b[0m\u001b[0muser_agent\u001b[0m\u001b[0;34m=\u001b[0m\u001b[0;34m\"foursquare_agent\"\u001b[0m\u001b[0;34m)\u001b[0m\u001b[0;34m\u001b[0m\u001b[0;34m\u001b[0m\u001b[0m\n\u001b[1;32m      4\u001b[0m \u001b[0mlocation\u001b[0m \u001b[0;34m=\u001b[0m \u001b[0mgeolocator\u001b[0m\u001b[0;34m.\u001b[0m\u001b[0mgeocode\u001b[0m\u001b[0;34m(\u001b[0m\u001b[0maddress\u001b[0m\u001b[0;34m)\u001b[0m\u001b[0;34m\u001b[0m\u001b[0;34m\u001b[0m\u001b[0m\n\u001b[0;32m----> 5\u001b[0;31m \u001b[0mlatitude\u001b[0m \u001b[0;34m=\u001b[0m \u001b[0mlocation\u001b[0m\u001b[0;34m.\u001b[0m\u001b[0mlatitude\u001b[0m\u001b[0;34m\u001b[0m\u001b[0;34m\u001b[0m\u001b[0m\n\u001b[0m\u001b[1;32m      6\u001b[0m \u001b[0mlongitude\u001b[0m \u001b[0;34m=\u001b[0m \u001b[0mlocation\u001b[0m\u001b[0;34m.\u001b[0m\u001b[0mlongitude\u001b[0m\u001b[0;34m\u001b[0m\u001b[0;34m\u001b[0m\u001b[0m\n\u001b[1;32m      7\u001b[0m \u001b[0mlimit\u001b[0m \u001b[0;34m=\u001b[0m \u001b[0;36m100\u001b[0m\u001b[0;34m\u001b[0m\u001b[0;34m\u001b[0m\u001b[0m\n", 
                        "\u001b[0;31mAttributeError\u001b[0m: 'NoneType' object has no attribute 'latitude'"
                    ], 
                    "ename": "AttributeError"
                }
            ], 
            "metadata": {}
        }, 
        {
            "source": "search_category_id = '4bf58dd8d48988d110941735' \nradius = 1000\nurl = 'https://api.foursquare.com/v2/venues/search?client_id={}&client_secret={}&ll={},{}&v={}&categoryId={}&radius={}&limit={}'.format(CLIENT_ID, CLIENT_SECRET, latitude, longitude, VERSION, search_category_id, radius, LIMIT)", 
            "cell_type": "code", 
            "execution_count": null, 
            "outputs": [], 
            "metadata": {}
        }, 
        {
            "source": "print('The geograpical coordinate of Singapore home are {}, {}.'.format(latitude, longitude))", 
            "cell_type": "code", 
            "execution_count": null, 
            "outputs": [], 
            "metadata": {}
        }, 
        {
            "source": "results = requests.get(url).json()\nresults", 
            "cell_type": "code", 
            "execution_count": null, 
            "outputs": [], 
            "metadata": {}
        }, 
        {
            "source": "def get_category_type(row):\n    try:\n        categories_list = row['categories']\n    except:\n        categories_list = row['venue.categories']\n        \n    if len(categories_list) == 0:\n        return None\n    else:\n        return categories_list[0]['name']", 
            "cell_type": "code", 
            "execution_count": null, 
            "outputs": [], 
            "metadata": {}
        }, 
        {
            "source": "venues = results['response']['venues']\n\n# tranform venues into a dataframe\ndataframe = json_normalize(venues)\ndataframe.head()", 
            "cell_type": "code", 
            "execution_count": null, 
            "outputs": [], 
            "metadata": {}
        }, 
        {
            "source": "venues_normalized = json_normalize(venues)\nvenues_normalized", 
            "cell_type": "code", 
            "execution_count": null, 
            "outputs": [], 
            "metadata": {}
        }, 
        {
            "source": "venues_map = folium.Map(location=[latitude, longitude], zoom_start=15) # map centered around Hamburg City\n\nfolium.features.CircleMarker(\n    [latitude, longitude],\n    radius=10,\n    color='red',\n    popup='Town Hall',\n    fill = True,\n    fill_color = 'red',\n    fill_opacity = 0.6\n).add_to(venues_map)\n\nfor lat, lng, name in zip(dataframe_filtered[\"location.lat\"], dataframe_filtered[\"location.lng\"], dataframe_filtered[\"name\"]):\n    folium.features.CircleMarker(\n        [lat, lng],\n        radius=5,\n        color='blue',\n        fill = True,\n        fill_color='blue',\n        fill_opacity=0.6\n    ).add_to(venues_map)\n\n# display map\nvenues_map", 
            "cell_type": "code", 
            "execution_count": null, 
            "outputs": [], 
            "metadata": {}
        }, 
        {
            "source": "from sklearn.cluster import KMeans\n\n# number of clusters\nkclusters = 5\n\n# filter columns\nfiltered_columns = ['location.lat', 'location.lng']\ndf_cluster_data = dataframe_filtered.loc[:, filtered_columns]\n\nnp_array = df_cluster_data.values\n\n# run k-means clustering\nkmeans = KMeans(n_clusters=kclusters, random_state=0).fit(np_array)\n\nkmeans.cluster_centers_", 
            "cell_type": "code", 
            "execution_count": null, 
            "outputs": [], 
            "metadata": {}
        }, 
        {
            "source": "for cluster in kmeans.cluster_centers_:\n    lat = cluster[0]\n    lng = cluster[1]\n    \n    folium.features.CircleMarker(\n        [lat, lng],\n        radius=15,\n        color='green',\n        fill = True,\n        fill_color='green',\n        fill_opacity=0.9\n    ).add_to(venues_map)\n    \nvenues_map", 
            "cell_type": "code", 
            "execution_count": null, 
            "outputs": [], 
            "metadata": {}
        }, 
        {
            "source": "# number of clusters\nkclusters = 7\n\n# filter columns\nfiltered_columns = ['location.lat', 'location.lng']\ndf_cluster_data = dataframe_filtered.loc[:, filtered_columns]\n\nnp_array = df_cluster_data.values\n\n# run k-means clustering\nkmeans = KMeans(n_clusters=kclusters, random_state=0).fit(np_array)\n\nkmeans.cluster_centers_\n\nfor cluster in kmeans.cluster_centers_:\n    lat = cluster[0]\n    lng = cluster[1]\n    \n    folium.features.CircleMarker(\n        [lat, lng],\n        radius=15,\n        color='brown',\n        fill = True,\n        fill_color='brown',\n        fill_opacity=1\n    ).add_to(venues_map)\n    \nvenues_map", 
            "cell_type": "code", 
            "execution_count": null, 
            "outputs": [], 
            "metadata": {}
        }, 
        {
            "source": "# Methodology\nThis chapter explains the methodology used in carrying out this study. It presents the research method, research design, population of the study, source of data, sample size and sampling technique, research instrument, validity and reliability of the research instrument, method of data analyses used in this study. 3.1 Research Method For the purpose of this study survey research method was adopted. This method is appropriate for the study as it involved the collection of information from a population sample which are subjective and the researcher does not attempt to control or manipulate the population. 3.2 Research Design This study uses the descriptive research design. Descriptive research design has been used to explain certain concepts as it helps a researcher collect, summarize, present and interpret information for clarification purposes. The sample size was calculated using yard formula. A 5 percent error margin (confidence interval) and a confidence level of 95 percent were used to estimate the sample size. The sample size for the study therefore is one hundred and sixty-one (161) for a sample population of two hundred and seventy (270). n= N/(1+N\u3016(e)\u3017^2 ) Where: n is the sample size N is the population size e is the level of precision Using an assumed value of 95% confidence level and 5% level of precision n= 270/(1+270\u3016(.05)\u3017^2 ) = 270/(1+1.5) = 161 respondents", 
            "cell_type": "markdown", 
            "metadata": {}
        }, 
        {
            "source": "# Results \nThe findings from the study indicates that strategic technical alliance plays a significant role in the retention of customers. These findings corroborate that of Juhaini, et. al (2015) who found that there is a significant relationship between strategic technology alliance and organizational performance. This is because strategic technology alliance enhances the overall performance of the company when it comes to production capacity, profit and revenue level and company market share. They further stated that the transfer of technology is an intermediary between strategic technology alliance and organizational performance. Given the emergence of effective alliance formation and the resulting technology development, companies have to invest in developing their resources, staff skills, manufacturing methods and industrial processes to maintain their competitive position in the economy. Juhaini. et. al, (2011) also stated that strategic technology alliance gives organizations the opportunity to create, store and apply technical knowledge for the advancement of the organization. Consequently, for the capability of an organization to be enhanced, managers have to manage the performance of such alliance. In addition, as executives seek to integrate new methods of production, there should be a desire among partners to be vulnerable to risk and trust in forbearance. From the study findings of strategic capacity building alliance does not significantly influence employee commitment. These findings do not corroborate with most research as previous researchers have stated otherwise that capacity building of staff was responsible for employee commitment (Anitha & Kumar, 2016; Gul, 2015; Yamoah & Maiyo, 2013). Some of the factors that may have led to the insignificance of capacity building on employee commitments could be because of unique country factor as it relates to difference in culture, maritime environmental factors as it relates to the attitude of employees towards work and welfare. From the study findings of strategic research and development alliance have a significant effect on service quality. These findings corroborate that of Dave, et. al., (2013) who found that research and development have positive relationship towards improving non-financial sustainability in an organizational. As research and development impact non-financial sustainability of an organization strongly. This also corroborate that of Cheng and Lin (2014) who found that in order for a business to attract more customers they must render high quality service. Its research and development division can only achieve this by constantly developing more differentiated and innovative service. i.e. by driving service combinations, reinforce service width and depth by establishing favourable relationship with customers before product sales. Therefore, providing optimal quality of service becomes critical. The discoveries from the study uncovered that strategic corporate image alliance significantly affects customer loyalty. These discoveries confirm that of Esmaeilpour and Barjoei (2016) who found that corporate image does not just impact client view of merchandise and ventures, yet in addition urge client choosing process. This is the equivalent with that of Kim and Hyun (2011). It can likewise be reasoned that those organizations who can make a positive corporate image in clients mind have a solid brand value in their industry. Since brand existing in their industry are boundless making a positive corporate image significantly affects the reliability of their clients. Daneshmand and Haghtalab (2014) also found that corporate image has a positive and significant effect on customer satisfaction. Therefore, it can be argued that corporate image impresses on customer satisfaction positively. Then again, by discounting sales or improvement of quality product, the organization can get more loyal customers. Also, the findings from this research study corroborates that of Wu (2014) who found that corporate image has a positive and significant effect on customer satisfaction.", 
            "cell_type": "markdown", 
            "metadata": {}
        }, 
        {
            "source": "# Discussion \nFindings from the test of hypothesis one revealed that strategic technology alliance play a significant role in the retention of customers in maritime industry. The researcher found out that in order for the organizations to retain customers the agencies need to receive technical support from their strategic partners which helps in improving quality of service delivered to the customers. If customers are satisfied with the technical support received this will lead to the retention of customers. Also the transfer of technology is an intermediary between strategic technology alliance and organizational performance. Findings from test of hypothesis two revealed that strategic capacity building alliance does not significantly influence employee commitment. This is as a result of some unique country factor as it relates to difference in culture of employees and maritime environmental factors as it relates to the attitude of employees towards work and welfare.\nFindings from test of hypothesis three revealed that strategic research and development alliance has a significant effect on service quality of the organization. This result is because the organization has been able to come up with innovative ways of rendering auxiliary services more efficiently. It has also helped in developing innovative ways of reducing average time laps between docking and off-loading.\nFindings from test of hypothesis four revealed that strategic corporate image alliance has a significant impact on customer loyalty. This is as a result of organizations solid brand value in their industry which has made a positive corporate image in clients mind. Since brand existing in their industry are boundless making a positive corporate image significantly affects the reliability of their clients.", 
            "cell_type": "markdown", 
            "metadata": {}
        }, 
        {
            "source": "# Conclusion \nBased on the findings from this study, it is clear that an organization which is involved in any form of strategic alliance in the maritime industry, can achieve an increase in its performance. Also, various forms of strategic alliance can be used to strengthen the position of Nigeria maritime industry globally. Analysis from the study revealed that strategic technology, research and development and corporate image alliance plays a significant role in improving maritime performance as it relates to retention of customer, service quality and customer loyalty respectively. Technology has impacted positively on customer base through its transfer from one strategic partner to another. Also, technical support received have improved the delivery of quality services to customers. Research and development have improved the innovative knowledge of organizations as it relates to service quality. Also through corporate image the organization has been able to significantly influence customer loyalty. It was also discovered from the findings that capacity building has no significant influence on employee commitment. This could be because of unique country factor or the nature of the maritime environment in Nigeria.\nLastly, building a strategic alliance requires a great deal of dedication to organize and integrate two or more autonomous companies, so federal government support is needed to develop a competitive edge for these agencies. Partners must know distinctions and be prepared to reach an agreement when differences lead to conflicts. Divergences could be very high in the scope of international markets and could hamper the method of building and handling the tactical relationship; if not handled properly, this might be the cause of the collapse of the alliance.", 
            "cell_type": "markdown", 
            "metadata": {}
        }, 
        {
            "source": "References", 
            "cell_type": "markdown", 
            "metadata": {}
        }, 
        {
            "source": "", 
            "cell_type": "code", 
            "execution_count": null, 
            "outputs": [], 
            "metadata": {}
        }
    ], 
    "nbformat": 4, 
    "metadata": {
        "kernelspec": {
            "display_name": "Python 3.6", 
            "name": "python3", 
            "language": "python"
        }, 
        "language_info": {
            "mimetype": "text/x-python", 
            "nbconvert_exporter": "python", 
            "version": "3.6.8", 
            "name": "python", 
            "pygments_lexer": "ipython3", 
            "file_extension": ".py", 
            "codemirror_mode": {
                "version": 3, 
                "name": "ipython"
            }
        }
    }
}