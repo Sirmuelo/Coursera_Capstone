{
    "nbformat_minor": 1, 
    "cells": [
        {
            "source": "# The Battle of Neighborhoods in Singapore. \n\n# Introduction  \nMccallum Street is a one-way street located in Chinatown, Singapore and the financial district of Shenton Way in the planning areas of both Outram and Downtown Core respectively. The street starts from Shenton Way and ends at the junction of Telok Ayer Street which then continues to Amoy Street. The Chinatown part of the street links the junction of Telok Ayer Street and Amoy Street towards Cecil Street, and for the Shenton Way part linking from Shenton Way to Cecil Street. \nThe street was one of the new streets declared as a public street in 1895 when the area from Robinson Road to Raffles Quay was levelled and drained. It is named after Major Henry McCallum, Colonial engineer in the 1890s. \nIt is office to companies like Bangkok Bank and I-S Magazine.  \n\n# 1.\tBackground Discussion \nCountries have evolved which is as a result of globalization and trade. Modern organizations in those countries are leveraging on this evolution to improve performance, remain relevant and have a competitive advantage over their counterparts. For the business countries to remain relevant they must innovate and adapt to the changes that come from globalization. Organizations who don\u2019t have an innovative capacity can form a strategic alliance with other firms who have. This alliance would enable the less innovative organization increase its capacity and resources they lack. \nSingapore is known for its dominace in the Maritime industry. It has strategically positioning itself to be a major player in  the world. The function of maritime industry is vast. This is because, certain maritime services such as moving of cargos, security of water ways, towage, docking and offloading has an important role in improving performance. Studies in literature are of the opinion that joint venture as a form of strategic alliance is the solution to reducing risk and prevention of marine and atmospheric pollution by ships. As a result of that, the government is proactively re-strategizing the industry goals by engaging in a strategic alliance with other maritime agencies which will enable companies stay relevant in the maritime world. \nIn a strategic alliance, organizations enter an agreement to co-create, trade and share resources among themselves. Firms enter key alliance to limit cost that originated from coordination challenges, gain information and build their own asset. Strategic alliance might be formalized as a joint venture in which the joint exercises are compartmentalized into a different independent substance or they might be left similarly indistinct and entwined, a state we distinguish as contractual alliance. Through this strategic alliance, partnering firms share benefits and administrative command concerning the execution of assigned tasks and proceeding with commitments to at least one key territories. \nIt has been observe that firms enter key alliance to limit costs that originate from coordination challenges, sourcing of specific assets and institutional information. \nThe concept of strategic alliance has continued to grow more significantly in recent times as more organizations are beginning to see it as an important part for sustainable development. Organizations who come together to achieve a strategic objective can be viewed as strategic alliance. Organizations who are in a strategic relationship are becoming more popular. The popularity of these organizations helps the strategic partners and create awareness of their capital and brand. By collaborating with other private sectors and international bodies, the maritime industry can access valuable solution that can help revitalise the sector and bring more foreign investment. There is need for the combination of institutes that are proficient in certain aspect of their business areas. As strategic alliance will help organization who lack or are in need of that aspect improve their performance. \nFurthermore, an effective strategic alliance would lead to the advancement of an organization by improving its overall performance in the area of market share and profit. Scholars have focused on the conditions under which companies can improve the performance of their strategic alliances. It can also be connected with the quantity of output, timeliness of output and completed work efficiency. This connection of organizational performance helps in the achievement of its objective through the use of effective and efficient resources. \nThis study therefore examines the role of strategic alliance in improving the performance of Business in Mccallum Street, Singapore.   \n\n# 1.1\t Discription of the Problem  \nStrategic alliance has become a management strategy firms enter as a solution for the difficulty\u2019s organization go through while trying to improve performance. Even in the maritime industry of some western countries like Thailand, Singapore, China and America, strategic alliance is used as an instrument for corporate strategy. Which is why firms in these western countries, have been growing in terms of market share and profit. Several studies authors have looked into the effect of strategic alliance as a whole in the maritime industry, but little research have been carried out on the effect of the composition of strategic alliance such as research and development, technology, capacity building, and corporate image and how performance in the maritime industry can be improved. \nIn recent time, most organizations around the world seek significant ways of advancing their level of technology in order to reduce ideal time, increase efficiency and in general improve performance. The organization could be in any industry ranging from maritime, retail, banking, telecommunication, manufacturing, oil and gas. Therefore, management of these organizations look for ways of acquiring the latest technology, forming a strategic alliance, partnership or joint venture that will enable them to achieve their corporate goal. In the maritime industry, technology is also a concern for the management of most organizations. This is because maritime services are driven by technology and the lack of technology hinders improvement of service quality, control of maritime pollution on the water ways and also the retention of customers. \nStrategic alliance in the aspect of capacity building is another issue that will be looked at. An alliance in capacity building is a form of human development strategy in improving skills of employees as it relates to their job functions. When the skills are improved, it helps in improving organization performance. Through this form of strategic alliance, a company seeking to grow or expand a line or division of business, will get advice and training from experts in specialized areas of their business. These expert consultants will then train the staff in that division on how to perform task optimally which will lead to improved corporate performance. In addition, continuous training or increase in capacity of the staff, will not only the organization and the staff, but also the customers will benefit. This is because, the staff are now well informed and enlighten about their job function which reflects on the quality of services rendered to customers.  \nStrategic alliance in the area of research and development will also be looked at. An alliance in research and development is an innovative strategy organization undertake. This innovative strategy enables them to develop new products and services that will end up improving the features of a product, reduce congestion in the seaports and overall improve service quality of the industry. The importance of R&D has been increasingly emphasized by Yeonhee, Sooyoung and Hyejin (2011) in the service sector over the past few decades. This is because research and development concept in service sector is more obscure than that of construction sector. In addition, its unique features make it more difficult to capture R&D features and their impact. To date, studies on the R&D service relationship with business performance of a company have limited these challenges. This form of strategic alliance tends to look for ways of bringing the best out of organizations, improve quality of service and retain customers.  \nCorporate image as a form of strategic alliance image is another issue that will be looked at. With increased competition, organizations are turning to corporate identity management practices as a competitive edge. If managed appropriately, it may impact positively on brand performance and attract more customers. Corporate identity management practices influence brand performance through a favourable corporate image. A favourable corporate image has been found to impact on an organization sale through increased customer, employees and investors attraction.  \nTherefore, from the statement of problem, an organization best strategy to remain relevant in business and improve performance is to enter a form of alliance that allows the organization to remain profitable. \n\n# 1.2\tDiscription of the Data\nThe following data is necessary to answer the questions of the problem:\nList of Business in Mccallum Street \nA survey research was adopted to know how strategic alliance will improve businesses perofrmance \nThe data will be used as follows:\nUse Foursquare and geopy data to map out the location of Mccalum street and a survey resarch to get information from employees on how strategic alliance will benefit them.", 
            "cell_type": "markdown", 
            "metadata": {
                "collapsed": true
            }
        }, 
        {
            "execution_count": 5, 
            "cell_type": "code", 
            "metadata": {}, 
            "outputs": [], 
            "source": "import requests\nimport numpy as np\nimport pandas as pd\nimport matplotlib.cm as cm\nimport matplotlib.colors as colors\nfrom geopy.geocoders import Nominatim\nfrom sklearn.cluster import KMeans as KM\nfrom pandas.io.json import json_normalize\nimport json"
        }, 
        {
            "execution_count": 20, 
            "cell_type": "code", 
            "metadata": {}, 
            "outputs": [
                {
                    "output_type": "stream", 
                    "name": "stdout", 
                    "text": "https://api.foursquare.com/v2/venues/explore?&client_id=&client_secret=&v=&ll=1.2792655,103.8480938&radius=1000&limit=100\nThe geograpical coordinate of Singapore home are 1.2792423, 103.8481312.\n"
                }, 
                {
                    "output_type": "stream", 
                    "name": "stderr", 
                    "text": "/opt/conda/envs/Python36/lib/python3.6/site-packages/ipykernel/__main__.py:3: DeprecationWarning: Using Nominatim with the default \"geopy/1.18.1\" `user_agent` is strongly discouraged, as it violates Nominatim's ToS https://operations.osmfoundation.org/policies/nominatim/ and may possibly cause 403 and 429 HTTP errors. Please specify a custom `user_agent` with `Nominatim(user_agent=\"my-application\")` or by overriding the default `user_agent`: `geopy.geocoders.options.default_user_agent = \"my-application\"`. In geopy 2.0 this will become an exception.\n  app.launch_new_instance()\n"
                }
            ], 
            "source": "address = 'Mccallum Street, Singapore'\n\ngeolocator = Nominatim()\nlocation = geolocator.geocode(address)\nlatitude = location.latitude\nlongitude = location.longitude\nlimit = 100\nradius = 1000 \nurl = 'https://api.foursquare.com/v2/venues/explore?&client_id={}&client_secret={}&v={}&ll={},{}&radius={}&limit={}'.format(\n    CLIENT_ID, \n    CLIENT_SECRET, \n    VERSION, \n    neighborhood_latitude, \n    neighborhood_longitude, \n    radius, \n    limit)\nprint (url) \nprint('The geograpical coordinate of Singapore home are {}, {}.'.format(latitude, longitude))\n"
        }, 
        {
            "execution_count": 21, 
            "cell_type": "code", 
            "metadata": {}, 
            "outputs": [], 
            "source": "neighborhood_latitude = 1.2792655\nneighborhood_longitude = 103.8480938"
        }, 
        {
            "execution_count": 22, 
            "cell_type": "code", 
            "metadata": {}, 
            "outputs": [], 
            "source": "CLIENT_ID = '' \nCLIENT_SECRET = '' \nVERSION = ''"
        }, 
        {
            "execution_count": 32, 
            "cell_type": "code", 
            "metadata": {}, 
            "outputs": [
                {
                    "output_type": "stream", 
                    "name": "stdout", 
                    "text": "200\n"
                }
            ], 
            "source": "from bs4 import BeautifulSoup \nfrom io import StringIO \nurl2 = \"https://en.wikipedia.org/wiki/Singapore\"\npage = requests.get(url2)\nprint(page.status_code)"
        }, 
        {
            "execution_count": 38, 
            "cell_type": "code", 
            "metadata": {}, 
            "outputs": [
                {
                    "output_type": "stream", 
                    "name": "stdout", 
                    "text": "Solving environment: done\n\n## Package Plan ##\n\n  environment location: /opt/conda/envs/Python36\n\n  added / updated specs: \n    - folium=0.5.0\n\n\nThe following packages will be downloaded:\n\n    package                    |            build\n    ---------------------------|-----------------\n    folium-0.5.0               |             py_0          45 KB  conda-forge\n    ca-certificates-2019.9.11  |       hecc5488_0         144 KB  conda-forge\n    openssl-1.1.1c             |       h516909a_0         2.1 MB  conda-forge\n    branca-0.3.1               |             py_0          25 KB  conda-forge\n    certifi-2019.9.11          |           py36_0         147 KB  conda-forge\n    altair-3.2.0               |           py36_0         770 KB  conda-forge\n    vincent-0.4.4              |             py_1          28 KB  conda-forge\n    ------------------------------------------------------------\n                                           Total:         3.3 MB\n\nThe following NEW packages will be INSTALLED:\n\n    altair:          3.2.0-py36_0      conda-forge\n    branca:          0.3.1-py_0        conda-forge\n    folium:          0.5.0-py_0        conda-forge\n    vincent:         0.4.4-py_1        conda-forge\n\nThe following packages will be UPDATED:\n\n    ca-certificates: 2019.5.15-1                   --> 2019.9.11-hecc5488_0 conda-forge\n    certifi:         2019.6.16-py36_1              --> 2019.9.11-py36_0     conda-forge\n\nThe following packages will be DOWNGRADED:\n\n    openssl:         1.1.1d-h7b6447c_1             --> 1.1.1c-h516909a_0    conda-forge\n\n\nDownloading and Extracting Packages\nfolium-0.5.0         | 45 KB     | ##################################### | 100% \nca-certificates-2019 | 144 KB    | ##################################### | 100% \nopenssl-1.1.1c       | 2.1 MB    | ##################################### | 100% \nbranca-0.3.1         | 25 KB     | ##################################### | 100% \ncertifi-2019.9.11    | 147 KB    | ##################################### | 100% \naltair-3.2.0         | 770 KB    | ##################################### | 100% \nvincent-0.4.4        | 28 KB     | ##################################### | 100% \nPreparing transaction: done\nVerifying transaction: done\nExecuting transaction: done\nFolium installed and imported!\n"
                }
            ], 
            "source": "!conda install -c conda-forge folium=0.5.0 --yes\nimport folium\n\nprint('Folium installed and imported!')"
        }, 
        {
            "execution_count": 39, 
            "cell_type": "code", 
            "metadata": {}, 
            "outputs": [
                {
                    "execution_count": 39, 
                    "metadata": {}, 
                    "data": {
                        "text/html": "<div style=\"width:100%;\"><div style=\"position:relative;width:100%;height:0;padding-bottom:60%;\"><iframe src=\"data:text/html;charset=utf-8;base64,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\" style=\"position:absolute;width:100%;height:100%;left:0;top:0;border:none !important;\" allowfullscreen webkitallowfullscreen mozallowfullscreen></iframe></div></div>", 
                        "text/plain": "<folium.folium.Map at 0x7f0ce4724160>"
                    }, 
                    "output_type": "execute_result"
                }
            ], 
            "source": "world_map = folium.Map(location=[1.2792655, 103.8480938], zoom_start=4, tiles='Stamen Terrain')\n\n# display map\nworld_map"
        }, 
        {
            "execution_count": 33, 
            "cell_type": "code", 
            "metadata": {}, 
            "outputs": [
                {
                    "execution_count": 33, 
                    "metadata": {}, 
                    "data": {
                        "text/plain": "<Response [400]>"
                    }, 
                    "output_type": "execute_result"
                }
            ], 
            "source": "results = requests.get(url)\nresults"
        }, 
        {
            "execution_count": 47, 
            "cell_type": "code", 
            "metadata": {}, 
            "outputs": [
                {
                    "ename": "NameError", 
                    "evalue": "name 'response' is not defined", 
                    "traceback": [
                        "\u001b[0;31m---------------------------------------------------------------------------\u001b[0m", 
                        "\u001b[0;31mNameError\u001b[0m                                 Traceback (most recent call last)", 
                        "\u001b[0;32m<ipython-input-47-a4ec98df6321>\u001b[0m in \u001b[0;36m<module>\u001b[0;34m\u001b[0m\n\u001b[0;32m----> 1\u001b[0;31m \u001b[0msoup\u001b[0m \u001b[0;34m=\u001b[0m \u001b[0mBeautifulSoup\u001b[0m\u001b[0;34m(\u001b[0m\u001b[0mresponse\u001b[0m\u001b[0;34m.\u001b[0m\u001b[0mtext\u001b[0m\u001b[0;34m,\u001b[0m \u001b[0;34m\"url\"\u001b[0m\u001b[0;34m)\u001b[0m\u001b[0;34m\u001b[0m\u001b[0;34m\u001b[0m\u001b[0m\n\u001b[0m", 
                        "\u001b[0;31mNameError\u001b[0m: name 'response' is not defined"
                    ], 
                    "output_type": "error"
                }
            ], 
            "source": "soup = BeautifulSoup(response.text, \"url\")"
        }, 
        {
            "execution_count": 16, 
            "cell_type": "code", 
            "metadata": {}, 
            "outputs": [], 
            "source": "def get_category_type(row):\n    try:\n        categories_list = row['categories']\n    except:\n        categories_list = row['venue.categories']\n        \n    if len(categories_list) == 0:\n        return None\n    else:\n        return categories_list[0]['name']"
        }, 
        {
            "execution_count": 35, 
            "cell_type": "code", 
            "metadata": {}, 
            "outputs": [
                {
                    "ename": "NameError", 
                    "evalue": "name 'SGnearby_venues' is not defined", 
                    "traceback": [
                        "\u001b[0;31m---------------------------------------------------------------------------\u001b[0m", 
                        "\u001b[0;31mNameError\u001b[0m                                 Traceback (most recent call last)", 
                        "\u001b[0;32m<ipython-input-35-baed88a90c7b>\u001b[0m in \u001b[0;36m<module>\u001b[0;34m\u001b[0m\n\u001b[1;32m      1\u001b[0m \u001b[0;34m\u001b[0m\u001b[0m\n\u001b[1;32m      2\u001b[0m \u001b[0mfiltered_columns\u001b[0m \u001b[0;34m=\u001b[0m \u001b[0;34m[\u001b[0m\u001b[0;34m'venue.name'\u001b[0m\u001b[0;34m,\u001b[0m \u001b[0;34m'venue.categories'\u001b[0m\u001b[0;34m,\u001b[0m \u001b[0;34m'venue.location.lat'\u001b[0m\u001b[0;34m,\u001b[0m \u001b[0;34m'venue.location.lng'\u001b[0m\u001b[0;34m]\u001b[0m\u001b[0;34m\u001b[0m\u001b[0;34m\u001b[0m\u001b[0m\n\u001b[0;32m----> 3\u001b[0;31m \u001b[0mSGnearby_venues\u001b[0m \u001b[0;34m=\u001b[0m\u001b[0mSGnearby_venues\u001b[0m\u001b[0;34m.\u001b[0m\u001b[0mloc\u001b[0m\u001b[0;34m[\u001b[0m\u001b[0;34m:\u001b[0m\u001b[0;34m,\u001b[0m \u001b[0mfiltered_columns\u001b[0m\u001b[0;34m]\u001b[0m\u001b[0;34m\u001b[0m\u001b[0;34m\u001b[0m\u001b[0m\n\u001b[0m\u001b[1;32m      4\u001b[0m \u001b[0;34m\u001b[0m\u001b[0m\n\u001b[1;32m      5\u001b[0m \u001b[0;34m\u001b[0m\u001b[0m\n", 
                        "\u001b[0;31mNameError\u001b[0m: name 'SGnearby_venues' is not defined"
                    ], 
                    "output_type": "error"
                }
            ], 
            "source": "\nfiltered_columns = ['venue.name', 'venue.categories', 'venue.location.lat', 'venue.location.lng']\nSGnearby_venues =SGnearby_venues.loc[:, filtered_columns]\n\n\nSGnearby_venues['venue.categories'] = SGnearby_venues.apply(get_category_type, axis=1)\n\nSGnearby_venues.columns = [col.split(\".\")[-1] for col in SGnearby_venues.columns]\n\nSGnearby_venues.head(10)"
        }, 
        {
            "execution_count": 26, 
            "cell_type": "code", 
            "metadata": {}, 
            "outputs": [
                {
                    "ename": "NameError", 
                    "evalue": "name 'venues' is not defined", 
                    "traceback": [
                        "\u001b[0;31m---------------------------------------------------------------------------\u001b[0m", 
                        "\u001b[0;31mNameError\u001b[0m                                 Traceback (most recent call last)", 
                        "\u001b[0;32m<ipython-input-26-8e4b92f2e9dd>\u001b[0m in \u001b[0;36m<module>\u001b[0;34m\u001b[0m\n\u001b[0;32m----> 1\u001b[0;31m \u001b[0mvenues_normalized\u001b[0m \u001b[0;34m=\u001b[0m \u001b[0mjson_normalize\u001b[0m\u001b[0;34m(\u001b[0m\u001b[0mvenues\u001b[0m\u001b[0;34m)\u001b[0m\u001b[0;34m\u001b[0m\u001b[0;34m\u001b[0m\u001b[0m\n\u001b[0m\u001b[1;32m      2\u001b[0m \u001b[0mvenues_normalized\u001b[0m\u001b[0;34m\u001b[0m\u001b[0;34m\u001b[0m\u001b[0m\n", 
                        "\u001b[0;31mNameError\u001b[0m: name 'venues' is not defined"
                    ], 
                    "output_type": "error"
                }
            ], 
            "source": "venues_normalized = json_normalize(venues)\nvenues_normalized"
        }, 
        {
            "execution_count": 37, 
            "cell_type": "code", 
            "metadata": {}, 
            "outputs": [
                {
                    "ename": "NameError", 
                    "evalue": "name 'folium' is not defined", 
                    "traceback": [
                        "\u001b[0;31m---------------------------------------------------------------------------\u001b[0m", 
                        "\u001b[0;31mNameError\u001b[0m                                 Traceback (most recent call last)", 
                        "\u001b[0;32m<ipython-input-37-52d00479ce0a>\u001b[0m in \u001b[0;36m<module>\u001b[0;34m\u001b[0m\n\u001b[0;32m----> 1\u001b[0;31m \u001b[0mmap_sg\u001b[0m \u001b[0;34m=\u001b[0m \u001b[0mfolium\u001b[0m\u001b[0;34m.\u001b[0m\u001b[0mMap\u001b[0m\u001b[0;34m(\u001b[0m\u001b[0mlocation\u001b[0m\u001b[0;34m=\u001b[0m\u001b[0;34m[\u001b[0m\u001b[0mlatitude\u001b[0m\u001b[0;34m,\u001b[0m \u001b[0mlongitude\u001b[0m\u001b[0;34m]\u001b[0m\u001b[0;34m,\u001b[0m \u001b[0mzoom_start\u001b[0m\u001b[0;34m=\u001b[0m\u001b[0;36m20\u001b[0m\u001b[0;34m)\u001b[0m\u001b[0;34m\u001b[0m\u001b[0;34m\u001b[0m\u001b[0m\n\u001b[0m\u001b[1;32m      2\u001b[0m \u001b[0;34m\u001b[0m\u001b[0m\n\u001b[1;32m      3\u001b[0m \u001b[0;32mfor\u001b[0m \u001b[0mlat\u001b[0m\u001b[0;34m,\u001b[0m \u001b[0mlng\u001b[0m\u001b[0;34m,\u001b[0m \u001b[0mlabel\u001b[0m \u001b[0;32min\u001b[0m \u001b[0mzip\u001b[0m\u001b[0;34m(\u001b[0m\u001b[0mSGnearby_venues\u001b[0m\u001b[0;34m[\u001b[0m\u001b[0;34m'lat'\u001b[0m\u001b[0;34m]\u001b[0m\u001b[0;34m,\u001b[0m \u001b[0mSGnearby_venues\u001b[0m\u001b[0;34m[\u001b[0m\u001b[0;34m'lng'\u001b[0m\u001b[0;34m]\u001b[0m\u001b[0;34m,\u001b[0m \u001b[0mSGnearby_venues\u001b[0m\u001b[0;34m[\u001b[0m\u001b[0;34m'name'\u001b[0m\u001b[0;34m]\u001b[0m\u001b[0;34m)\u001b[0m\u001b[0;34m:\u001b[0m\u001b[0;34m\u001b[0m\u001b[0;34m\u001b[0m\u001b[0m\n\u001b[1;32m      4\u001b[0m     \u001b[0mlabel\u001b[0m \u001b[0;34m=\u001b[0m \u001b[0mfolium\u001b[0m\u001b[0;34m.\u001b[0m\u001b[0mPopup\u001b[0m\u001b[0;34m(\u001b[0m\u001b[0mlabel\u001b[0m\u001b[0;34m,\u001b[0m \u001b[0mparse_html\u001b[0m\u001b[0;34m=\u001b[0m\u001b[0;32mTrue\u001b[0m\u001b[0;34m)\u001b[0m\u001b[0;34m\u001b[0m\u001b[0;34m\u001b[0m\u001b[0m\n\u001b[1;32m      5\u001b[0m     folium.RegularPolygonMarker(\n", 
                        "\u001b[0;31mNameError\u001b[0m: name 'folium' is not defined"
                    ], 
                    "output_type": "error"
                }
            ], 
            "source": "map_sg = folium.Map(location=[latitude, longitude], zoom_start=20)\n\nfor lat, lng, label in zip(SGnearby_venues['lat'], SGnearby_venues['lng'], SGnearby_venues['name']):\n    label = folium.Popup(label, parse_html=True)\n    folium.RegularPolygonMarker(\n        [lat, lng],\n        number_of_sides=4,\n        radius=10,\n        popup=label,\n        color='blue',\n        fill_color='#0f0f0f',\n        fill_opacity=0.7,\n    ).add_to(map_sg)  \n    \nmap_sg"
        }, 
        {
            "execution_count": null, 
            "cell_type": "code", 
            "metadata": {}, 
            "outputs": [], 
            "source": ""
        }
    ], 
    "metadata": {
        "kernelspec": {
            "display_name": "Python 3.6", 
            "name": "python3", 
            "language": "python"
        }, 
        "language_info": {
            "mimetype": "text/x-python", 
            "nbconvert_exporter": "python", 
            "version": "3.6.8", 
            "name": "python", 
            "file_extension": ".py", 
            "pygments_lexer": "ipython3", 
            "codemirror_mode": {
                "version": 3, 
                "name": "ipython"
            }
        }
    }, 
    "nbformat": 4
}