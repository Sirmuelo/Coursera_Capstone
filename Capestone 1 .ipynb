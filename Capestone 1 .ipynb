{
    "nbformat_minor": 1, 
    "cells": [
        {
            "source": "# The Battle of Neighborhoods in Singapore. \n\n# Introduction  \nMccallum Street is a one-way street located in Chinatown, Singapore and the financial district of Shenton Way in the planning areas of both Outram and Downtown Core respectively. The street starts from Shenton Way and ends at the junction of Telok Ayer Street which then continues to Amoy Street. The Chinatown part of the street links the junction of Telok Ayer Street and Amoy Street towards Cecil Street, and for the Shenton Way part linking from Shenton Way to Cecil Street. \nThe street was one of the new streets declared as a public street in 1895 when the area from Robinson Road to Raffles Quay was levelled and drained. It is named after Major Henry McCallum, Colonial engineer in the 1890s. \nIt is office to companies like Bangkok Bank and I-S Magazine.  \n\n# 1.\tBackground Discussion \nCountries have evolved which is as a result of globalization and trade. Modern organizations in those countries are leveraging on this evolution to improve performance, remain relevant and have a competitive advantage over their counterparts. For the business countries to remain relevant they must innovate and adapt to the changes that come from globalization. Organizations who don\u2019t have an innovative capacity can form a strategic alliance with other firms who have. This alliance would enable the less innovative organization increase its capacity and resources they lack. \nSingapore is known for its dominace in the Maritime industry. It has strategically positioning itself to be a major player in  the world. The function of maritime industry is vast. This is because, certain maritime services such as moving of cargos, security of water ways, towage, docking and offloading has an important role in improving performance. Studies in literature are of the opinion that joint venture as a form of strategic alliance is the solution to reducing risk and prevention of marine and atmospheric pollution by ships. As a result of that, the government is proactively re-strategizing the industry goals by engaging in a strategic alliance with other maritime agencies which will enable companies stay relevant in the maritime world. \nIn a strategic alliance, organizations enter an agreement to co-create, trade and share resources among themselves. Firms enter key alliance to limit cost that originated from coordination challenges, gain information and build their own asset. Strategic alliance might be formalized as a joint venture in which the joint exercises are compartmentalized into a different independent substance or they might be left similarly indistinct and entwined, a state we distinguish as contractual alliance. Through this strategic alliance, partnering firms share benefits and administrative command concerning the execution of assigned tasks and proceeding with commitments to at least one key territories. \nIt has been observe that firms enter key alliance to limit costs that originate from coordination challenges, sourcing of specific assets and institutional information. \nThe concept of strategic alliance has continued to grow more significantly in recent times as more organizations are beginning to see it as an important part for sustainable development. Organizations who come together to achieve a strategic objective can be viewed as strategic alliance. Organizations who are in a strategic relationship are becoming more popular. The popularity of these organizations helps the strategic partners and create awareness of their capital and brand. By collaborating with other private sectors and international bodies, the maritime industry can access valuable solution that can help revitalise the sector and bring more foreign investment. There is need for the combination of institutes that are proficient in certain aspect of their business areas. As strategic alliance will help organization who lack or are in need of that aspect improve their performance. \nFurthermore, an effective strategic alliance would lead to the advancement of an organization by improving its overall performance in the area of market share and profit. Scholars have focused on the conditions under which companies can improve the performance of their strategic alliances. It can also be connected with the quantity of output, timeliness of output and completed work efficiency. This connection of organizational performance helps in the achievement of its objective through the use of effective and efficient resources. \nThis study therefore examines the role of strategic alliance in improving the performance of Business in Mccallum Street, Singapore.   \n\n# 1.1\t Discription of the Problem  \nStrategic alliance has become a management strategy firms enter as a solution for the difficulty\u2019s organization go through while trying to improve performance. Even in the maritime industry of some western countries like Thailand, Singapore, China and America, strategic alliance is used as an instrument for corporate strategy. Which is why firms in these western countries, have been growing in terms of market share and profit. Several studies authors have looked into the effect of strategic alliance as a whole in the maritime industry, but little research have been carried out on the effect of the composition of strategic alliance such as research and development, technology, capacity building, and corporate image and how performance in the maritime industry can be improved. \nIn recent time, most organizations around the world seek significant ways of advancing their level of technology in order to reduce ideal time, increase efficiency and in general improve performance. The organization could be in any industry ranging from maritime, retail, banking, telecommunication, manufacturing, oil and gas. Therefore, management of these organizations look for ways of acquiring the latest technology, forming a strategic alliance, partnership or joint venture that will enable them to achieve their corporate goal. In the maritime industry, technology is also a concern for the management of most organizations. This is because maritime services are driven by technology and the lack of technology hinders improvement of service quality, control of maritime pollution on the water ways and also the retention of customers. \nStrategic alliance in the aspect of capacity building is another issue that will be looked at. An alliance in capacity building is a form of human development strategy in improving skills of employees as it relates to their job functions. When the skills are improved, it helps in improving organization performance. Through this form of strategic alliance, a company seeking to grow or expand a line or division of business, will get advice and training from experts in specialized areas of their business. These expert consultants will then train the staff in that division on how to perform task optimally which will lead to improved corporate performance. In addition, continuous training or increase in capacity of the staff, will not only the organization and the staff, but also the customers will benefit. This is because, the staff are now well informed and enlighten about their job function which reflects on the quality of services rendered to customers.  \nStrategic alliance in the area of research and development will also be looked at. An alliance in research and development is an innovative strategy organization undertake. This innovative strategy enables them to develop new products and services that will end up improving the features of a product, reduce congestion in the seaports and overall improve service quality of the industry. The importance of R&D has been increasingly emphasized by Yeonhee, Sooyoung and Hyejin (2011) in the service sector over the past few decades. This is because research and development concept in service sector is more obscure than that of construction sector. In addition, its unique features make it more difficult to capture R&D features and their impact. To date, studies on the R&D service relationship with business performance of a company have limited these challenges. This form of strategic alliance tends to look for ways of bringing the best out of organizations, improve quality of service and retain customers.  \nCorporate image as a form of strategic alliance image is another issue that will be looked at. With increased competition, organizations are turning to corporate identity management practices as a competitive edge. If managed appropriately, it may impact positively on brand performance and attract more customers. Corporate identity management practices influence brand performance through a favourable corporate image. A favourable corporate image has been found to impact on an organization sale through increased customer, employees and investors attraction.  \nTherefore, from the statement of problem, an organization best strategy to remain relevant in business and improve performance is to enter a form of alliance that allows the organization to remain profitable. \n\n# 1.2\tDiscription of the Data\nThe following data is necessary to answer the questions of the problem:\nList of Business in Mccallum Street \nA survey research was adopted to know how strategic alliance will improve businesses perofrmance \nThe data will be used as follows:\nUse Foursquare and geopy data to map out the location of Mccalum street and a survey resarch to get information from employees on how strategic alliance will benefit them.", 
            "cell_type": "markdown", 
            "metadata": {
                "collapsed": true
            }
        }, 
        {
            "execution_count": 1, 
            "cell_type": "code", 
            "metadata": {}, 
            "outputs": [
                {
                    "output_type": "stream", 
                    "name": "stdout", 
                    "text": "Solving environment: done\n\n## Package Plan ##\n\n  environment location: /opt/conda/envs/Python36\n\n  added / updated specs: \n    - geopy\n\n\nThe following packages will be downloaded:\n\n    package                    |            build\n    ---------------------------|-----------------\n    geopy-1.20.0               |             py_0          57 KB  conda-forge\n    geographiclib-1.50         |             py_0          34 KB  conda-forge\n    ------------------------------------------------------------\n                                           Total:          91 KB\n\nThe following NEW packages will be INSTALLED:\n\n    geographiclib: 1.50-py_0   conda-forge\n    geopy:         1.20.0-py_0 conda-forge\n\n\nDownloading and Extracting Packages\ngeopy-1.20.0         | 57 KB     | ##################################### | 100% \ngeographiclib-1.50   | 34 KB     | ##################################### | 100% \nPreparing transaction: done\nVerifying transaction: done\nExecuting transaction: done\nSolving environment: done\n\n# All requested packages already installed.\n\nFolium installed\nLibraries imported.\n"
                }
            ], 
            "source": "import requests \nimport pandas as pd \nimport numpy as np \nimport random \n!conda install -c conda-forge geopy --yes \nfrom geopy.geocoders import Nominatim \nfrom IPython.display import Image \nfrom IPython.core.display import HTML \nfrom pandas.io.json import json_normalize\n!conda install -c conda-forge folium=0.5.0 --yes\nimport folium\nprint('Folium installed')\nprint('Libraries imported.')"
        }, 
        {
            "execution_count": 2, 
            "cell_type": "code", 
            "metadata": {}, 
            "outputs": [], 
            "source": "# The code was removed by Watson Studio for sharing."
        }, 
        {
            "execution_count": 3, 
            "cell_type": "code", 
            "metadata": {}, 
            "outputs": [
                {
                    "output_type": "stream", 
                    "name": "stdout", 
                    "text": "3.1516636 101.6943028\n"
                }
            ], 
            "source": "address = 'Kuala Lumpur, Singarpore'\n\ngeolocator = Nominatim(user_agent=\"foursquare_agent\")\nlocation = geolocator.geocode(address)\nlatitude = location.latitude\nlongitude = location.longitude\nlimit = 100\nradius = 1000\nprint(latitude, longitude)"
        }, 
        {
            "execution_count": 4, 
            "cell_type": "code", 
            "metadata": {}, 
            "outputs": [], 
            "source": "search_category_id = '4bf58dd8d48988d110941735' \nradius = 1000\nurl = 'https://api.foursquare.com/v2/venues/search?client_id={}&client_secret={}&ll={},{}&v={}&categoryId={}&radius={}&limit={}'.format(CLIENT_ID, CLIENT_SECRET, latitude, longitude, VERSION, search_category_id, radius, LIMIT)"
        }, 
        {
            "execution_count": 5, 
            "cell_type": "code", 
            "metadata": {}, 
            "outputs": [
                {
                    "output_type": "stream", 
                    "name": "stdout", 
                    "text": "The geograpical coordinate of Singapore home are 3.1516636, 101.6943028.\n"
                }
            ], 
            "source": "print('The geograpical coordinate of Singapore home are {}, {}.'.format(latitude, longitude))"
        }, 
        {
            "execution_count": 6, 
            "cell_type": "code", 
            "metadata": {}, 
            "outputs": [
                {
                    "execution_count": 6, 
                    "metadata": {}, 
                    "data": {
                        "text/plain": "{'meta': {'code': 400,\n  'errorType': 'invalid_auth',\n  'errorDetail': 'Missing access credentials. See https://developer.foursquare.com/docs/api/configuration/authentication for details.',\n  'requestId': '5d95d7682c2017002b37ef33'},\n 'response': {}}"
                    }, 
                    "output_type": "execute_result"
                }
            ], 
            "source": "results = requests.get(url).json()\nresults"
        }, 
        {
            "execution_count": 7, 
            "cell_type": "code", 
            "metadata": {}, 
            "outputs": [], 
            "source": "def get_category_type(row):\n    try:\n        categories_list = row['categories']\n    except:\n        categories_list = row['venue.categories']\n        \n    if len(categories_list) == 0:\n        return None\n    else:\n        return categories_list[0]['name']"
        }, 
        {
            "execution_count": null, 
            "cell_type": "code", 
            "metadata": {}, 
            "outputs": [], 
            "source": "venues = results['response']['venues']\n\n# tranform venues into a dataframe\ndataframe = json_normalize(venues)\ndataframe.head()"
        }, 
        {
            "execution_count": null, 
            "cell_type": "code", 
            "metadata": {}, 
            "outputs": [], 
            "source": "venues_normalized = json_normalize(venues)\nvenues_normalized"
        }, 
        {
            "execution_count": null, 
            "cell_type": "code", 
            "metadata": {}, 
            "outputs": [], 
            "source": "\nvenues_map = folium.Map(location=[latitude, longitude], zoom_start=15) # map centered around Hamburg City\n\n# add a red circle marker to represent Hamburg City Location\nfolium.features.CircleMarker(\n    [latitude, longitude],\n    radius=10,\n    color='red',\n    popup='Town Hall Hamburg',\n    fill = True,\n    fill_color = 'red',\n    fill_opacity = 0.6\n).add_to(venues_map)\n\n# add the Italian restaurants as blue circle markers\nfor lat, lng, name in zip(dataframe_filtered[\"location.lat\"], dataframe_filtered[\"location.lng\"], dataframe_filtered[\"name\"]):\n    folium.features.CircleMarker(\n        [lat, lng],\n        radius=5,\n        color='blue',\n        fill = True,\n        fill_color='blue',\n        fill_opacity=0.6\n    ).add_to(venues_map)\n\n# display map\nvenues_map"
        }, 
        {
            "execution_count": null, 
            "cell_type": "code", 
            "metadata": {}, 
            "outputs": [], 
            "source": "from sklearn.cluster import KMeans\n\n# number of clusters\nkclusters = 5\n\n# filter columns\nfiltered_columns = ['location.lat', 'location.lng']\ndf_cluster_data = dataframe_filtered.loc[:, filtered_columns]\n\nnp_array = df_cluster_data.values\n\n# run k-means clustering\nkmeans = KMeans(n_clusters=kclusters, random_state=0).fit(np_array)\n\nkmeans.cluster_centers_"
        }, 
        {
            "execution_count": null, 
            "cell_type": "code", 
            "metadata": {}, 
            "outputs": [], 
            "source": "for cluster in kmeans.cluster_centers_:\n    lat = cluster[0]\n    lng = cluster[1]\n    \n    folium.features.CircleMarker(\n        [lat, lng],\n        radius=15,\n        color='green',\n        fill = True,\n        fill_color='green',\n        fill_opacity=0.9\n    ).add_to(venues_map)\n    \nvenues_map"
        }, 
        {
            "execution_count": null, 
            "cell_type": "code", 
            "metadata": {}, 
            "outputs": [], 
            "source": "# number of clusters\nkclusters = 7\n\n# filter columns\nfiltered_columns = ['location.lat', 'location.lng']\ndf_cluster_data = dataframe_filtered.loc[:, filtered_columns]\n\nnp_array = df_cluster_data.values\n\n# run k-means clustering\nkmeans = KMeans(n_clusters=kclusters, random_state=0).fit(np_array)\n\nkmeans.cluster_centers_\n\nfor cluster in kmeans.cluster_centers_:\n    lat = cluster[0]\n    lng = cluster[1]\n    \n    folium.features.CircleMarker(\n        [lat, lng],\n        radius=15,\n        color='brown',\n        fill = True,\n        fill_color='brown',\n        fill_opacity=1\n    ).add_to(venues_map)\n    \nvenues_map"
        }
    ], 
    "metadata": {
        "kernelspec": {
            "display_name": "Python 3.6", 
            "name": "python3", 
            "language": "python"
        }, 
        "language_info": {
            "mimetype": "text/x-python", 
            "nbconvert_exporter": "python", 
            "version": "3.6.8", 
            "name": "python", 
            "file_extension": ".py", 
            "pygments_lexer": "ipython3", 
            "codemirror_mode": {
                "version": 3, 
                "name": "ipython"
            }
        }
    }, 
    "nbformat": 4
}